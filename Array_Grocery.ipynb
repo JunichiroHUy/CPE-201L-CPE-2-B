{
  "nbformat": 4,
  "nbformat_minor": 0,
  "metadata": {
    "colab": {
      "provenance": [],
      "authorship_tag": "ABX9TyOtAGt0Yj4EFMVhWNbH8n/r",
      "include_colab_link": true
    },
    "kernelspec": {
      "name": "python3",
      "display_name": "Python 3"
    },
    "language_info": {
      "name": "python"
    }
  },
  "cells": [
    {
      "cell_type": "markdown",
      "metadata": {
        "id": "view-in-github",
        "colab_type": "text"
      },
      "source": [
        "<a href=\"https://colab.research.google.com/github/JunichiroHUy/CPE-201L-CPE-2-B/blob/main/Array_Grocery.ipynb\" target=\"_parent\"><img src=\"https://colab.research.google.com/assets/colab-badge.svg\" alt=\"Open In Colab\"/></a>"
      ]
    },
    {
      "cell_type": "code",
      "execution_count": 18,
      "metadata": {
        "colab": {
          "base_uri": "https://localhost:8080/"
        },
        "id": "s9HnLngmPiNA",
        "outputId": "b4abea8d-ac5a-46b1-db31-2e333b9d1643"
      },
      "outputs": [
        {
          "output_type": "stream",
          "name": "stdout",
          "text": [
            "Banana is being deleted!\n",
            "Apple is being deleted!\n",
            "\n",
            "Grocery List:\n",
            "Broccoli is being deleted!\n",
            "7 pcs of Apple for ₱10.0 each: ₱70.0 in total!\n",
            "8 pcs of Banana for ₱10.0 each: ₱80.0 in total!\n",
            "12 pcs of Broccoli for ₱60.0 each: ₱720.0 in total!\n",
            "10 pcs of Lettuce for ₱50.0 each: ₱500.0 in total!\n",
            "Total price before deletion:  ₱1370.0\n",
            "\n",
            "Do you want to delete an item?(y/n): y\n",
            "\n",
            "What item do you want to delete?(name): lettuce\n",
            "Lettuce is being deleted!\n",
            "\n",
            "Grocery List:\n",
            "7 pcs of Apple for ₱10.0 each: ₱70.0 in total!\n",
            "8 pcs of Banana for ₱10.0 each: ₱80.0 in total!\n",
            "12 pcs of Broccoli for ₱60.0 each: ₱720.0 in total!\n"
          ]
        }
      ],
      "source": [
        "class groceryItem:\n",
        "  def __init__(self, name, price, quantity):\n",
        "    self.name = name\n",
        "    self.price = float(price)\n",
        "    self.quantity = int(quantity)\n",
        "\n",
        "  def copy_constructor(self):\n",
        "    return type(self)(self.name, self.price, self.quantity)\n",
        "\n",
        "  def copyAssignment(self, new):\n",
        "    self.name, self.price, self.quantity = new.name, new.price, new.quantity\n",
        "\n",
        "  def sumTotal(self):\n",
        "    return self.price * self.quantity\n",
        "\n",
        "  def details(self):\n",
        "    return f\"{self.quantity} pcs of {self.name} for ₱{self.price} each: ₱{self.sumTotal()} in total!\"\n",
        "\n",
        "  def __del__(self):\n",
        "    print(f\"{self.name} is being deleted!\")\n",
        "\n",
        "class fruits(groceryItem): pass\n",
        "class vegetables(groceryItem): pass\n",
        "\n",
        "# Problem 1\n",
        "apple = fruits(\"Apple\", 10, 7)\n",
        "banana = fruits(\"Banana\", 10, 8)\n",
        "broccoli = vegetables(\"Broccoli\", 60, 12)\n",
        "lettuce = vegetables(\"Lettuce\", 50, 10)\n",
        "\n",
        "# Problem 2\n",
        "groceryList = [apple, banana, broccoli, lettuce]\n",
        "\n",
        "print(\"\\nGrocery List:\")\n",
        "for item in groceryList:\n",
        "  print(item.details())\n",
        "\n",
        "# Problem 3\n",
        "def sumAllitems(items):\n",
        "  totalSum = 0\n",
        "  for item in items:\n",
        "    totalSum += item.sumTotal()\n",
        "  return totalSum\n",
        "\n",
        "print(\"Total price before deletion: \", f\"₱{sumAllitems(groceryList)}\")\n",
        "\n",
        "#Problem 4\n",
        "Question_1 = input(\"\\nDo you want to delete an item?(y/n): \")\n",
        "if Question_1 ==\"y\":\n",
        "  choice = input(\"\\nWhat item do you want to delete?(name): \")\n",
        "  index = None\n",
        "\n",
        "  for i, x in enumerate(groceryList):\n",
        "    if choice.lower() == x.name.lower():\n",
        "      index = i\n",
        "      break\n",
        "\n",
        "  if index is not None:\n",
        "    dltItem = groceryList.pop(index)\n",
        "    del dltItem\n",
        "  else:\n",
        "    print(f\"\\nThe item '{choice}' is not in the list.\")\n",
        "\n",
        "else:\n",
        "  print(\"Ok!\")\n",
        "\n",
        "print(\"\\nGrocery List:\")\n",
        "for item in groceryList:\n",
        "  print(item.details())\n",
        "\n",
        "\n"
      ]
    }
  ]
}