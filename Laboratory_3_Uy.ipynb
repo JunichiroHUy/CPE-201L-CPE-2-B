{
  "nbformat": 4,
  "nbformat_minor": 0,
  "metadata": {
    "colab": {
      "provenance": [],
      "authorship_tag": "ABX9TyO+0KIGC0QWDgyful5N7jyd",
      "include_colab_link": true
    },
    "kernelspec": {
      "name": "python3",
      "display_name": "Python 3"
    },
    "language_info": {
      "name": "python"
    }
  },
  "cells": [
    {
      "cell_type": "markdown",
      "metadata": {
        "id": "view-in-github",
        "colab_type": "text"
      },
      "source": [
        "<a href=\"https://colab.research.google.com/github/JunichiroHUy/CPE-201L-CPE-2-B/blob/main/Laboratory_3_Uy.ipynb\" target=\"_parent\"><img src=\"https://colab.research.google.com/assets/colab-badge.svg\" alt=\"Open In Colab\"/></a>"
      ]
    },
    {
      "cell_type": "markdown",
      "source": [
        "**Sum even scores**"
      ],
      "metadata": {
        "id": "D8arqSV0MDT3"
      }
    },
    {
      "cell_type": "code",
      "execution_count": 2,
      "metadata": {
        "colab": {
          "base_uri": "https://localhost:8080/"
        },
        "id": "SiFQTAAiLIZT",
        "outputId": "321c1533-b68a-4eb8-96c3-c5de8fef3022"
      },
      "outputs": [
        {
          "output_type": "stream",
          "name": "stdout",
          "text": [
            "Sum or even scores: 186\n"
          ]
        }
      ],
      "source": [
        "sumEven = 0\n",
        "\n",
        "scores = [26,49,98,87,62,75]\n",
        "\n",
        "for score in scores:\n",
        "  if score % 2 == 0:\n",
        "    sumEven += score\n",
        "\n",
        "print(f\"Sum or even scores: {sumEven}\")"
      ]
    }
  ]
}