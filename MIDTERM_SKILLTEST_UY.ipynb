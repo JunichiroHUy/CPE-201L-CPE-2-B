{
  "nbformat": 4,
  "nbformat_minor": 0,
  "metadata": {
    "colab": {
      "provenance": [],
      "authorship_tag": "ABX9TyNUClbqGP+9JT9mt+hIfwdi",
      "include_colab_link": true
    },
    "kernelspec": {
      "name": "python3",
      "display_name": "Python 3"
    },
    "language_info": {
      "name": "python"
    }
  },
  "cells": [
    {
      "cell_type": "markdown",
      "metadata": {
        "id": "view-in-github",
        "colab_type": "text"
      },
      "source": [
        "<a href=\"https://colab.research.google.com/github/JunichiroHUy/CPE-201L-CPE-2-B/blob/main/MIDTERM_SKILLTEST_UY.ipynb\" target=\"_parent\"><img src=\"https://colab.research.google.com/assets/colab-badge.svg\" alt=\"Open In Colab\"/></a>"
      ]
    },
    {
      "cell_type": "code",
      "execution_count": 17,
      "metadata": {
        "colab": {
          "base_uri": "https://localhost:8080/"
        },
        "id": "tGhNNTRnSawi",
        "outputId": "9bff2048-5045-4496-fe51-d0c98a343738"
      },
      "outputs": [
        {
          "output_type": "stream",
          "name": "stdout",
          "text": [
            "Index 0: 20\n",
            "Index 1: 21\n",
            "Index 2: 22\n",
            "Index 3: 23\n",
            "Index 4: 24\n",
            "Index 5: 25\n",
            "Index 6: 26\n",
            "Index 7: 27\n",
            "Index 8: 28\n",
            "Index 9: 29\n",
            "Index 10: 30\n",
            "Index 11: 31\n",
            "Index 12: 32\n",
            "Index 13: 33\n",
            "Index 14: 34\n",
            "Index 15: 35\n",
            "Index 16: 36\n",
            "Index 17: 37\n",
            "Index 18: 38\n",
            "Index 19: 39\n",
            "Index 20: 40\n",
            "Index 21: 41\n",
            "Index 22: 42\n",
            "Index 23: 43\n",
            "Index 24: 44\n",
            "Index 25: 45\n",
            "Index 26: 46\n",
            "Index 27: 47\n",
            "Index 28: 48\n",
            "Index 29: 49\n",
            "\n",
            "array('i', [20, 21, 22, 23, 24, 25, 26, 27, 28, 29, 30, 31, 32, 33, 34, 35, 36, 37, 38, 39, 40, 41, 42, 43, 44, 45, 46, 47, 48, 49])\n",
            "\n",
            "There are 30 integers inside the array!\n",
            "\n",
            "Odd: 15 \n",
            "Even: 15\n"
          ]
        }
      ],
      "source": [
        "import array as arr\n",
        "arr.typecodes\n",
        "\n",
        "evenList = arr.array('i', range(20, 50))\n",
        "\n",
        "#a. Display the elements\n",
        "def displayAll(list):\n",
        "  for index, item in enumerate(list):\n",
        "    print(f\"Index {index}: {item}\")\n",
        "\n",
        "  print(f\"\\n{list}\")\n",
        "\n",
        "#b. Count the number of elements\n",
        "def displayCount(list):\n",
        "  countNum = len(list)\n",
        "  print(f\"\\nThere are {countNum} integers inside the array!\")\n",
        "\n",
        "#c. Count the number of Odd and Even integers\n",
        "def displayOddEven(list):\n",
        "  evenCount = 0\n",
        "  oddCount = 0\n",
        "  for number in list:\n",
        "    if number % 2 == 1:\n",
        "      oddCount += 1\n",
        "    else:\n",
        "      evenCount += 1\n",
        "\n",
        "  print(f\"\\nOdd: {oddCount} \\nEven: {evenCount}\")\n",
        "\n",
        "\n",
        "displayAll(evenList)\n",
        "displayCount(evenList)\n",
        "displayOddEven(evenList)"
      ]
    }
  ]
}