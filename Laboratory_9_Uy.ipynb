{
  "nbformat": 4,
  "nbformat_minor": 0,
  "metadata": {
    "colab": {
      "provenance": [],
      "authorship_tag": "ABX9TyO4FLHxdsDOPSvDyC+lhPbz",
      "include_colab_link": true
    },
    "kernelspec": {
      "name": "python3",
      "display_name": "Python 3"
    },
    "language_info": {
      "name": "python"
    }
  },
  "cells": [
    {
      "cell_type": "markdown",
      "metadata": {
        "id": "view-in-github",
        "colab_type": "text"
      },
      "source": [
        "<a href=\"https://colab.research.google.com/github/JunichiroHUy/CPE-201L-CPE-2-B/blob/main/Laboratory_9_Uy.ipynb\" target=\"_parent\"><img src=\"https://colab.research.google.com/assets/colab-badge.svg\" alt=\"Open In Colab\"/></a>"
      ]
    },
    {
      "cell_type": "code",
      "execution_count": 7,
      "metadata": {
        "colab": {
          "base_uri": "https://localhost:8080/"
        },
        "id": "wVjtMPxWHZra",
        "outputId": "3d455f83-b910-49fd-e5a5-c1c1de9ee04e"
      },
      "outputs": [
        {
          "output_type": "stream",
          "name": "stdout",
          "text": [
            "Added Element: 5\n",
            "Added Element: 4\n",
            "Added Element: 3\n",
            "Added Element: 2\n",
            "Added Element: 1\n",
            "The elements in the queue are:[4, 3, 2, 1]\n"
          ]
        }
      ],
      "source": [
        "# Queue implementation in python\n",
        "\n",
        "# Creating a queue\n",
        "def create_queue():\n",
        "    queue = []\n",
        "    return queue\n",
        "\n",
        "# Creating an empty queue\n",
        "def is_empty(queue):\n",
        "    return len(queue) == 0\n",
        "\n",
        "# Adding items into the queue\n",
        "def enqueue(queue, item):\n",
        "    queue.append(item)\n",
        "    print(f\"Added Element: {item}\")\n",
        "\n",
        "# Removing an element from the queue\n",
        "def dequeue(queue):\n",
        "    if (is_empty(queue)):\n",
        "        return \"The queue is empty\"\n",
        "    return queue.pop(0)\n",
        "\n",
        "queue = create_queue()\n",
        "enqueue(queue, 5)\n",
        "enqueue(queue, 4)\n",
        "enqueue(queue, 3)\n",
        "enqueue(queue, 2)\n",
        "enqueue(queue, 1)\n",
        "dequeue(queue)\n",
        "\n",
        "print(\"The elements in the queue are:\"+ str(queue))"
      ]
    },
    {
      "cell_type": "markdown",
      "source": [
        "**If we change the pop to the first element**"
      ],
      "metadata": {
        "id": "q9jbY5TZY8-i"
      }
    },
    {
      "cell_type": "code",
      "source": [
        "anada_queue = create_queue()\n",
        "\n",
        "def enqueue_front(queue, item):\n",
        "    queue.insert(0, item)\n",
        "    print(f\"Added Element: {item}\")\n",
        "\n",
        "enqueue_front(anada_queue, 1)\n",
        "enqueue_front(anada_queue, 2)\n",
        "enqueue_front(anada_queue, 3)\n",
        "\n",
        "print(\"The elements in the queue are:\"+ str(anada_queue))"
      ],
      "metadata": {
        "colab": {
          "base_uri": "https://localhost:8080/"
        },
        "id": "vr9wDV6SPWk1",
        "outputId": "f5ff8f9f-499d-4ad0-b9bb-ec37365ef959"
      },
      "execution_count": 11,
      "outputs": [
        {
          "output_type": "stream",
          "name": "stdout",
          "text": [
            "Added Element: 1\n",
            "Added Element: 2\n",
            "Added Element: 3\n",
            "The elements in the queue are:[3, 2, 1]\n"
          ]
        }
      ]
    }
  ]
}