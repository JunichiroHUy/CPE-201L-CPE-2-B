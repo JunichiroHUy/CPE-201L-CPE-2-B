{
  "nbformat": 4,
  "nbformat_minor": 0,
  "metadata": {
    "colab": {
      "provenance": [],
      "authorship_tag": "ABX9TyPyspL/c0QP38iZ52kGXj/5",
      "include_colab_link": true
    },
    "kernelspec": {
      "name": "python3",
      "display_name": "Python 3"
    },
    "language_info": {
      "name": "python"
    }
  },
  "cells": [
    {
      "cell_type": "markdown",
      "metadata": {
        "id": "view-in-github",
        "colab_type": "text"
      },
      "source": [
        "<a href=\"https://colab.research.google.com/github/JunichiroHUy/CPE-201L-CPE-2-B/blob/main/Laboratory_8_Uy.ipynb\" target=\"_parent\"><img src=\"https://colab.research.google.com/assets/colab-badge.svg\" alt=\"Open In Colab\"/></a>"
      ]
    },
    {
      "cell_type": "markdown",
      "source": [
        "ORIGINAL CODE"
      ],
      "metadata": {
        "id": "7y0sgmkLPaMW"
      }
    },
    {
      "cell_type": "code",
      "source": [
        "def create_stack():\n",
        "    stack = []\n",
        "    return stack\n",
        "\n",
        "\n",
        "# Creating an empty stack\n",
        "def is_empty(stack):\n",
        "    return len(stack) == 0\n",
        "\n",
        "# Adding items into the stack\n",
        "def push(stack, item):\n",
        "    stack.append(item)\n",
        "    print(\"Pushed Element: \" + item)\n",
        "\n",
        "# Removing an element from the stack\n",
        "def pop(stack):\n",
        "    if (is_empty(stack)):\n",
        "        return \"The stack is empty\"\n",
        "    return stack.pop()\n",
        "\n",
        "stack = create_stack()\n",
        "push(stack, str(1))\n",
        "push(stack, str(2))\n",
        "push(stack, str(3))\n",
        "push(stack, str(4))\n",
        "push(stack, str(5))\n",
        "\n",
        "print(\"The elements in the stack are:\"+ str(stack))"
      ],
      "metadata": {
        "colab": {
          "base_uri": "https://localhost:8080/"
        },
        "id": "kty9hjB9KSO4",
        "outputId": "081a7526-0cf9-4192-bcae-f8e63617f0e6"
      },
      "execution_count": 17,
      "outputs": [
        {
          "output_type": "stream",
          "name": "stdout",
          "text": [
            "Pushed Element: 1\n",
            "Pushed Element: 2\n",
            "Pushed Element: 3\n",
            "Pushed Element: 4\n",
            "Pushed Element: 5\n",
            "The elements in the stack are:['1', '2', '3', '4', '5']\n"
          ]
        }
      ]
    },
    {
      "cell_type": "markdown",
      "source": [
        "THIS IS THE EDITED CODE"
      ],
      "metadata": {
        "id": "xMQiMnZAPXWF"
      }
    },
    {
      "cell_type": "code",
      "execution_count": 14,
      "metadata": {
        "colab": {
          "base_uri": "https://localhost:8080/"
        },
        "id": "c-6WKYdv847t",
        "outputId": "1c636ac0-b4aa-43ba-d86c-3c74f70e0bab"
      },
      "outputs": [
        {
          "output_type": "stream",
          "name": "stdout",
          "text": [
            "Pushed Element: 1\n",
            "Pushed Element: 2\n",
            "Pushed Element: 3\n",
            "Pushed Element: 4\n",
            "Pushed Element: 5\n",
            "The elements in the stack are: ['1', '2', '3', '4', '5']\n",
            "The stack is 5 elements long.\n",
            "The elements in the stack are: ['1', '2']\n",
            "The stack is 2 elements long.\n"
          ]
        }
      ],
      "source": [
        "def createStack():\n",
        "  stack = []\n",
        "  return stack\n",
        "\n",
        "def isEmpty(stack):\n",
        "  return len(stack) == 0\n",
        "\n",
        "def push(stack, item):\n",
        "  stack.append(item)\n",
        "  print(\"Pushed Element: \" + item)\n",
        "\n",
        "def pop(stack):\n",
        "  if(isEmpty(stack)):\n",
        "    return\"Stack is Empty.\"\n",
        "\n",
        "  for x in range(3):\n",
        "    stack.pop()\n",
        "\n",
        "def checkLen(stack):\n",
        "  print(f\"The stack is {len(stack)} elements long.\")\n",
        "\n",
        "def status(stack):\n",
        "  print (\"The elements in the stack are: \" + str(stack))\n",
        "\n",
        "stack = createStack()\n",
        "\n",
        "push(stack, str(1))\n",
        "push(stack, str(2))\n",
        "push(stack, str(3))\n",
        "push(stack, str(4))\n",
        "push(stack, str(5))\n",
        "status(stack)\n",
        "checkLen(stack)\n",
        "pop(stack)\n",
        "status(stack)\n",
        "checkLen(stack)\n",
        "\n",
        "\n"
      ]
    }
  ]
}