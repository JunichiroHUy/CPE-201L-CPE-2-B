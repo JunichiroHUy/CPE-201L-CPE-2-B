{
  "nbformat": 4,
  "nbformat_minor": 0,
  "metadata": {
    "colab": {
      "provenance": [],
      "authorship_tag": "ABX9TyNs8/IGxIcVwjLdmtl/N0Jt",
      "include_colab_link": true
    },
    "kernelspec": {
      "name": "python3",
      "display_name": "Python 3"
    },
    "language_info": {
      "name": "python"
    }
  },
  "cells": [
    {
      "cell_type": "markdown",
      "metadata": {
        "id": "view-in-github",
        "colab_type": "text"
      },
      "source": [
        "<a href=\"https://colab.research.google.com/github/JunichiroHUy/CPE-201L-CPE-2-B/blob/main/Laboratory_1_Uy.ipynb\" target=\"_parent\"><img src=\"https://colab.research.google.com/assets/colab-badge.svg\" alt=\"Open In Colab\"/></a>"
      ]
    },
    {
      "cell_type": "markdown",
      "source": [
        "**POLYGON**"
      ],
      "metadata": {
        "id": "shpaz9hzblx9"
      }
    },
    {
      "cell_type": "code",
      "execution_count": 15,
      "metadata": {
        "colab": {
          "base_uri": "https://localhost:8080/"
        },
        "id": "QZ4fVUHSbbn8",
        "outputId": "1f939e12-8d93-4a77-8320-b5846d7ae33d"
      },
      "outputs": [
        {
          "output_type": "stream",
          "name": "stdout",
          "text": [
            "Hello, I am a Square and you can call me Mr Boxy,\n",
            "I have 4 sides, and my area would be around \n",
            "25.5! Yeah I know I'm overweight...\n",
            " \n",
            "Hi, I'm also a Polygon which has 3, \n",
            "also know as a Triangle! My name would be Spikey Mike \n",
            "and I cover about 16.6.\n",
            " \n",
            "Mr Boxy has started exercising a while ago...\n",
            "After all that running, I managed to lose 15cm of fat around my plane, \n",
            "now I only measure to 10.5!\n"
          ]
        }
      ],
      "source": [
        "\n",
        "class Polygons:\n",
        "  def __init__(self, name: str, sides: int, area: float):\n",
        "    self._name = name\n",
        "    self._sides = sides\n",
        "    self._area = area\n",
        "\n",
        "  #allows you to assign new parameters\n",
        "  def new_name(self, name: str):\n",
        "    self._name = name\n",
        "\n",
        "  def new_sides(self, sides: int):\n",
        "    self._sides = sides\n",
        "\n",
        "  def new_area(self, area: float):\n",
        "    self._area = area\n",
        "\n",
        "  #allows you to call them to display\n",
        "  def show_name(self):\n",
        "    return self._name\n",
        "\n",
        "  def show_side(self):\n",
        "    return self._sides\n",
        "\n",
        "  def show_area(self):\n",
        "    return self._area\n",
        "\n",
        "\n",
        "Square = Polygons(\"Mr Boxy\", 4, 25.5)\n",
        "Triangle = Polygons(\"Spikey Mike\", 3, 16.6)\n",
        "\n",
        "print(f\"\"\"Hello, I am a Square and you can call me {Square.show_name()},\n",
        "I have {Square.show_side()} sides, and my area would be around\n",
        "{Square.show_area()}! Yeah I know I'm overweight...\"\"\")\n",
        "print(\" \")\n",
        "print(f\"\"\"Hi, I'm also a Polygon which has {Triangle.show_side()},\n",
        "also know as a Triangle! My name would be {Triangle.show_name()}\n",
        "and I cover about {Triangle.show_area()}.\"\"\")\n",
        "print(\" \")\n",
        "\n",
        "print(f\"{Square.show_name()} has started exercising a while ago...\")\n",
        "Square.new_area(10.5)\n",
        "\n",
        "print(f\"\"\"After all that running, I managed to lose 15cm of fat around my plane,\n",
        "now I only measure to {Square.show_area()}!\"\"\")"
      ]
    }
  ]
}