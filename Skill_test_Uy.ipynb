{
  "nbformat": 4,
  "nbformat_minor": 0,
  "metadata": {
    "colab": {
      "provenance": [],
      "authorship_tag": "ABX9TyMrurnafo6kZvUDc76RRpz2",
      "include_colab_link": true
    },
    "kernelspec": {
      "name": "python3",
      "display_name": "Python 3"
    },
    "language_info": {
      "name": "python"
    }
  },
  "cells": [
    {
      "cell_type": "markdown",
      "metadata": {
        "id": "view-in-github",
        "colab_type": "text"
      },
      "source": [
        "<a href=\"https://colab.research.google.com/github/JunichiroHUy/CPE-201L-CPE-2-B/blob/main/Skill_test_Uy.ipynb\" target=\"_parent\"><img src=\"https://colab.research.google.com/assets/colab-badge.svg\" alt=\"Open In Colab\"/></a>"
      ]
    },
    {
      "cell_type": "code",
      "execution_count": 39,
      "metadata": {
        "colab": {
          "base_uri": "https://localhost:8080/"
        },
        "id": "NKcZOFMntfGo",
        "outputId": "70292780-c40e-4e75-8740-4729c499e8ac"
      },
      "outputs": [
        {
          "output_type": "stream",
          "name": "stdout",
          "text": [
            "Y U H O R I H C I N U J _ "
          ]
        }
      ],
      "source": [
        "class Stacks:\n",
        "  def __init__(self):\n",
        "    self.stack = []\n",
        "\n",
        "  def push(self, value): #Dito ko na nilagay yung pang insert ng underscore, so it's much cleaner\n",
        "    if len(self.stack) == 0:\n",
        "      self.stack.append(\"_\") #Inserts underscore at the bottom\n",
        "    self.stack.append(value)\n",
        "\n",
        "  def pop(self):\n",
        "    if len(self.stack) <= 0:\n",
        "      print(\"There are no characters in this stack!\")\n",
        "    else:\n",
        "      return self.stack.pop()\n",
        "\n",
        "  def traverse(self):\n",
        "    if len(self.stack) <= 0:\n",
        "      print(\"There are no characters in this stack!\")\n",
        "    else:\n",
        "      self.stack.reverse()\n",
        "      for x in self.stack:\n",
        "        print(x, end=\" \")\n",
        "\n",
        "myName = Stacks()\n",
        "\n",
        "myName.push('J')\n",
        "myName.push('c')\n",
        "myName.pop()\n",
        "myName.push('U')\n",
        "myName.push('N')\n",
        "myName.push('I')\n",
        "myName.push('C')\n",
        "myName.push('H')\n",
        "myName.push('I')\n",
        "myName.push('R')\n",
        "myName.push('O')\n",
        "myName.push('H')\n",
        "myName.push('U')\n",
        "myName.push('Y')\n",
        "\n",
        "myName.traverse()\n",
        "\n"
      ]
    },
    {
      "cell_type": "code",
      "source": [
        "\n",
        "assistedArray = Stacks()\n",
        "condition = True\n",
        "\n",
        "while condition is True:\n",
        "  question = int(input(\"\\nPush(1) Exit(2): \"))\n",
        "  if question == 1:\n",
        "    while True:\n",
        "      print(\"\\nType your letter(1:Pop 2:Exit): \")\n",
        "      letter = input(\"\")\n",
        "      if letter == \"1\":\n",
        "        assistedArray.pop()\n",
        "      elif letter == \"2\":\n",
        "        break\n",
        "      for x, i in enumerate(letter):\n",
        "        assistedArray.push(i)\n",
        "  else:\n",
        "    assistedArray.traverse()\n",
        "    break\n"
      ],
      "metadata": {
        "colab": {
          "base_uri": "https://localhost:8080/"
        },
        "id": "YtMCZPwLwZvX",
        "outputId": "64207583-1607-480a-af44-681fa1dedef1"
      },
      "execution_count": 57,
      "outputs": [
        {
          "output_type": "stream",
          "name": "stdout",
          "text": [
            "\n",
            "Push(1) Exit(2): 1\n",
            "\n",
            "Type your letter(1:Pop 2:Exit): \n",
            "J\n",
            "\n",
            "Type your letter(1:Pop 2:Exit): \n",
            "U\n",
            "\n",
            "Type your letter(1:Pop 2:Exit): \n",
            "N\n",
            "\n",
            "Type your letter(1:Pop 2:Exit): \n",
            "I\n",
            "\n",
            "Type your letter(1:Pop 2:Exit): \n",
            "C\n",
            "\n",
            "Type your letter(1:Pop 2:Exit): \n",
            "H\n",
            "\n",
            "Type your letter(1:Pop 2:Exit): \n",
            "I\n",
            "\n",
            "Type your letter(1:Pop 2:Exit): \n",
            "R\n",
            "\n",
            "Type your letter(1:Pop 2:Exit): \n",
            "O\n",
            "\n",
            "Type your letter(1:Pop 2:Exit): \n",
            "H\n",
            "\n",
            "Type your letter(1:Pop 2:Exit): \n",
            "U\n",
            "\n",
            "Type your letter(1:Pop 2:Exit): \n",
            "Y\n",
            "\n",
            "Type your letter(1:Pop 2:Exit): \n",
            "2\n",
            "\n",
            "Push(1) Exit(2): 2\n",
            "Y U H O R I H C I N U J _ "
          ]
        }
      ]
    }
  ]
}