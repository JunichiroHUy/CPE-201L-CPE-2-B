{
  "nbformat": 4,
  "nbformat_minor": 0,
  "metadata": {
    "colab": {
      "provenance": [],
      "authorship_tag": "ABX9TyPOBKUbV4Briovi5hD51QYa",
      "include_colab_link": true
    },
    "kernelspec": {
      "name": "python3",
      "display_name": "Python 3"
    },
    "language_info": {
      "name": "python"
    }
  },
  "cells": [
    {
      "cell_type": "markdown",
      "metadata": {
        "id": "view-in-github",
        "colab_type": "text"
      },
      "source": [
        "<a href=\"https://colab.research.google.com/github/JunichiroHUy/CPE-201L-CPE-2-B/blob/main/Lab_2_Uy.ipynb\" target=\"_parent\"><img src=\"https://colab.research.google.com/assets/colab-badge.svg\" alt=\"Open In Colab\"/></a>"
      ]
    },
    {
      "cell_type": "markdown",
      "source": [
        "**Letter C**"
      ],
      "metadata": {
        "id": "X77d1SPyd61f"
      }
    },
    {
      "cell_type": "code",
      "execution_count": 6,
      "metadata": {
        "colab": {
          "base_uri": "https://localhost:8080/"
        },
        "id": "IumnQ3LidlRD",
        "outputId": "debfb5d7-378a-4a7b-85c3-1c570f986c02"
      },
      "outputs": [
        {
          "output_type": "stream",
          "name": "stdout",
          "text": [
            "Smallest: -5 and Largest: 69\n"
          ]
        }
      ],
      "source": [
        "def minMax (list):\n",
        "  if len(list) == 1:\n",
        "    return list[0], list[0]\n",
        "  else:\n",
        "    min_num, max_num = minMax(list[1:])\n",
        "    return min(list[0], min_num), max(list[0], max_num)\n",
        "\n",
        "numbers = [69, 34, 4, 10, -5]\n",
        "small, large = minMax(numbers)\n",
        "print(f\"Smallest: {small} and Largest: {large}\")"
      ]
    }
  ]
}