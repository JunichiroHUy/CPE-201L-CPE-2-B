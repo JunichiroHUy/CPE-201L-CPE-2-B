{
  "nbformat": 4,
  "nbformat_minor": 0,
  "metadata": {
    "colab": {
      "provenance": [],
      "authorship_tag": "ABX9TyMNPQMxjAv680AqfJuXjyOa",
      "include_colab_link": true
    },
    "kernelspec": {
      "name": "python3",
      "display_name": "Python 3"
    },
    "language_info": {
      "name": "python"
    }
  },
  "cells": [
    {
      "cell_type": "markdown",
      "metadata": {
        "id": "view-in-github",
        "colab_type": "text"
      },
      "source": [
        "<a href=\"https://colab.research.google.com/github/JunichiroHUy/CPE-201L-CPE-2-B/blob/main/Make_Up_Class_LinkedList.ipynb\" target=\"_parent\"><img src=\"https://colab.research.google.com/assets/colab-badge.svg\" alt=\"Open In Colab\"/></a>"
      ]
    },
    {
      "cell_type": "code",
      "execution_count": null,
      "metadata": {
        "colab": {
          "base_uri": "https://localhost:8080/"
        },
        "id": "me6tVLm0zfSE",
        "outputId": "3be98ca7-5347-446f-890c-a7fa3a1c33c1"
      },
      "outputs": [
        {
          "output_type": "stream",
          "name": "stdout",
          "text": [
            "array('f', [1.0, 2.0, 3.0, 4.0, 5.0, 6.0])\n"
          ]
        }
      ],
      "source": [
        "import array as arr\n",
        "\n",
        "import tkinter\n",
        "arr.typecodes #get all typecodes​\n",
        "a = arr.array('i', [1,2,3,4,5,6]) #initializing array a​\n",
        "a = arr.array('f', map(float, a))\n",
        "b = arr.array('f', [1.5,2.5,3.5,4.5,5.5,6.5]) #initializing array b​\n",
        "\n",
        "a.typecode #getting the typecode of a\n",
        "print(a)\n"
      ]
    },
    {
      "cell_type": "code",
      "source": [
        "from array import array # importing array from array module​\n",
        "\n",
        "a= array('i',[4,5,6,7]) # initializing array​\n",
        "\n",
        "a.insert(1,2) # inserting element: 2 at index: 1​\n",
        "a # Printing array a​\n",
        "\n",
        "a.insert(-1,0) # insert element: 0 at index: -1​\n",
        "a\n",
        "\n",
        "a.insert(10, -1) # insert element: -1 at index: 10, this is out of range​\n",
        "a\n",
        "\n",
        "a.insert(3, 69)\n",
        "a"
      ],
      "metadata": {
        "colab": {
          "base_uri": "https://localhost:8080/"
        },
        "id": "WAf8uXIX7gZh",
        "outputId": "6716b20f-cbcc-42a3-c09f-4370e5403a52"
      },
      "execution_count": null,
      "outputs": [
        {
          "output_type": "execute_result",
          "data": {
            "text/plain": [
              "array('i', [4, 2, 5, 69, 6, 0, 7, -1])"
            ]
          },
          "metadata": {},
          "execution_count": 32
        }
      ]
    },
    {
      "cell_type": "code",
      "source": [
        "# Node class​\n",
        "\n",
        "class Node:\n",
        "  # Function to initialize the node object​\n",
        "  def __init__(self, data):\n",
        "    self.data = data # Assign data​\n",
        "    self.next = None # Initialize​\n",
        "    # next as null​\n",
        "    # Linked List class​\n",
        "\n",
        "class LinkedList:\n",
        "  # Function to initialize the Linked​\n",
        "  # List object​\n",
        "  def __init__(self):\n",
        "        self.head = None\n",
        "\n",
        "  def printData(self):\n",
        "    current = self.head\n",
        "    while current:\n",
        "      print(current.data)\n",
        "      current = current.next\n",
        "\n",
        "# Code execution starts here​\n",
        "\n",
        "if __name__=='__main__':\n",
        "\n",
        "  # Start with the empty list​\n",
        "\n",
        "  llist = LinkedList()\n",
        "  llist.head = Node(\"A\")\n",
        "  second = Node(\"B\")\n",
        "  third = Node(\"C\")\n",
        "  fourth = Node(\"D\")\n",
        "\n",
        "  llist.head.next = second # Link first node\n",
        "  second.next = third # Link second node\n",
        "  third.next = fourth\n",
        "\n",
        "llist.printData()"
      ],
      "metadata": {
        "id": "_yWjfH1zD8Id",
        "colab": {
          "base_uri": "https://localhost:8080/"
        },
        "outputId": "d0123388-979e-4e81-8fbe-22d878eb7384"
      },
      "execution_count": null,
      "outputs": [
        {
          "output_type": "stream",
          "name": "stdout",
          "text": [
            "A\n",
            "B\n",
            "C\n",
            "D\n"
          ]
        }
      ]
    }
  ]
}