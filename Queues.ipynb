{
  "nbformat": 4,
  "nbformat_minor": 0,
  "metadata": {
    "colab": {
      "provenance": [],
      "authorship_tag": "ABX9TyNrFxBpDSqHR1nmnNUr+uT/",
      "include_colab_link": true
    },
    "kernelspec": {
      "name": "python3",
      "display_name": "Python 3"
    },
    "language_info": {
      "name": "python"
    }
  },
  "cells": [
    {
      "cell_type": "markdown",
      "metadata": {
        "id": "view-in-github",
        "colab_type": "text"
      },
      "source": [
        "<a href=\"https://colab.research.google.com/github/JunichiroHUy/CPE-201L-CPE-2-B/blob/main/Queues.ipynb\" target=\"_parent\"><img src=\"https://colab.research.google.com/assets/colab-badge.svg\" alt=\"Open In Colab\"/></a>"
      ]
    },
    {
      "cell_type": "code",
      "execution_count": 33,
      "metadata": {
        "colab": {
          "base_uri": "https://localhost:8080/"
        },
        "id": "KfVbEz1C_TOn",
        "outputId": "feae5307-3788-4ea5-faef-e57451b3393c"
      },
      "outputs": [
        {
          "output_type": "stream",
          "name": "stdout",
          "text": [
            "['A', 'B', 'C']\n",
            "The Queue is full, please try after dequeueing the first term again.\n",
            "The first in line is \"A\"\n",
            "C is the last in line\n",
            "------------------------------------\n",
            "['B', 'C', 'D']\n",
            "The first in line is \"B\"\n",
            "D is the last in line\n",
            "\n",
            "Searching for index number:\n",
            "\"C\" is in index number 1\n",
            "\"A\" is not found in the Queue.\n",
            "\n",
            "Remove all data:\n",
            "Removing all data...\n",
            "[]\n",
            "The queue is empty.\n",
            "The queue is empty.\n"
          ]
        }
      ],
      "source": [
        "def empty_queue(list):\n",
        "  list.clear()\n",
        "  print(\"Removing all data...\")\n",
        "\n",
        "def enqueue(list, value): #Enqueue and checks if full\n",
        "  if len(list) == 3:\n",
        "    print(\"The Queue is full, please try after dequeueing the first term again.\")\n",
        "  else:\n",
        "    list.append(value)\n",
        "\n",
        "def Head_queue(list):\n",
        "  if len(list) <= 0:\n",
        "    print(\"The queue is empty.\")\n",
        "  else:\n",
        "    print (f'The first in line is \"{list[0]}\"')\n",
        "def Tail_queue(list):\n",
        "  tail = len(list) - 1\n",
        "  if len(list) <= 0:\n",
        "    print(\"The queue is empty.\")\n",
        "  else:\n",
        "    print(f\"{list[tail]} is the last in line\")\n",
        "def searchByvalue(list, value):\n",
        "  for index, element in enumerate(list):\n",
        "    if element == value:\n",
        "      print(f'\"{value}\" is in index number {index}')\n",
        "      return\n",
        "  print(f'\"{value}\" is not found in the Queue.')\n",
        "\n",
        "\n",
        "queue = []\n",
        "#enqueue items into queue\n",
        "enqueue(queue, \"A\")\n",
        "enqueue(queue, \"B\")\n",
        "enqueue(queue, \"C\")\n",
        "print(queue)\n",
        "enqueue(queue, \"D\")\n",
        "Head_queue(queue)\n",
        "Tail_queue(queue)\n",
        "\n",
        "\n",
        "#dequeue items from the queue\n",
        "print(\"------------------------------------\")\n",
        "queue.pop(0)\n",
        "enqueue(queue, \"D\")\n",
        "print(queue)\n",
        "Head_queue(queue)\n",
        "Tail_queue(queue)\n",
        "\n",
        "print(\"\\nSearching for index number:\")\n",
        "searchByvalue(queue, \"C\")\n",
        "searchByvalue(queue, \"A\")\n",
        "\n",
        "print(\"\\nRemove all data:\")\n",
        "empty_queue(queue)\n",
        "print(queue)\n",
        "Head_queue(queue)\n",
        "Tail_queue(queue)\n",
        "\n",
        "\n",
        ""
      ]
    }
  ]
}