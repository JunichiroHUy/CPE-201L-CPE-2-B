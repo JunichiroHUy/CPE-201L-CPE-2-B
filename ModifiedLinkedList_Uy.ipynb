{
  "nbformat": 4,
  "nbformat_minor": 0,
  "metadata": {
    "colab": {
      "provenance": [],
      "authorship_tag": "ABX9TyMdyRYCImuxD0vPJyNXdTML",
      "include_colab_link": true
    },
    "kernelspec": {
      "name": "python3",
      "display_name": "Python 3"
    },
    "language_info": {
      "name": "python"
    }
  },
  "cells": [
    {
      "cell_type": "markdown",
      "metadata": {
        "id": "view-in-github",
        "colab_type": "text"
      },
      "source": [
        "<a href=\"https://colab.research.google.com/github/JunichiroHUy/CPE-201L-CPE-2-B/blob/main/ModifiedLinkedList_Uy.ipynb\" target=\"_parent\"><img src=\"https://colab.research.google.com/assets/colab-badge.svg\" alt=\"Open In Colab\"/></a>"
      ]
    },
    {
      "cell_type": "code",
      "execution_count": 40,
      "metadata": {
        "colab": {
          "base_uri": "https://localhost:8080/"
        },
        "id": "9AL4jHEpSTDk",
        "outputId": "8e569d57-97e9-49d3-cf83-e8928feac8fb"
      },
      "outputs": [
        {
          "output_type": "stream",
          "name": "stdout",
          "text": [
            "D\n",
            "C\n",
            "B\n",
            "A\n",
            "A\n",
            "B\n",
            "C\n",
            "D\n",
            "Insert:\n",
            "A\n",
            "B\n",
            "C\n",
            "D\n",
            "Y\n"
          ]
        }
      ],
      "source": [
        "# Node class\n",
        "class Node:\n",
        "\n",
        "    # Function to initialize the node object\n",
        "    def __init__(self, data):\n",
        "        self.data = data # Assign data\n",
        "        self.next = None # Initialize\n",
        "                         # next as null\n",
        "        self.prev = None\n",
        "\n",
        "# Linked List class\n",
        "class LinkedList:\n",
        "\n",
        "    # Function to initialize the Linked\n",
        "    # List object\n",
        "    def __init__(self):\n",
        "        self.head = None\n",
        "    def print_forward(self): #Print forward\n",
        "      current =self.head\n",
        "      while current:\n",
        "        print(current.data)\n",
        "        current=current.next\n",
        "\n",
        "    def print_backward(self): #Print backwards\n",
        "      current = self.head\n",
        "\n",
        "      while current.next:\n",
        "        current = current.next\n",
        "\n",
        "      while current:\n",
        "        print(current.data)\n",
        "        current = current.prev\n",
        "\n",
        "    def insert(self, data): #Insert at end\n",
        "      new = Node(data)\n",
        "      if self.head is None:\n",
        "        self.head = new\n",
        "\n",
        "      current = self.head\n",
        "      while current.next:\n",
        "        current = current.next\n",
        "\n",
        "      current.next = new\n",
        "      new.prev = current\n",
        "\n",
        "if __name__=='__main__':\n",
        "# Start with the empty list\n",
        "    llist = LinkedList()\n",
        "\n",
        "    llist.head = Node(\"A\")  #object name1\n",
        "    second = Node(\"B\")        #object name2\n",
        "    third = Node(\"C\")\n",
        "    fourth = Node(\"D\")\n",
        "\n",
        "    llist.head.next = second # Link first node with second\n",
        "    second.next = third # Link second node with the third node\n",
        "    third.next = fourth #Link third to fourth\n",
        "\n",
        "    second.prev = llist.head\n",
        "    third.prev = second\n",
        "    fourth.prev = third\n",
        "\n",
        "    llist.print_backward()\n",
        "    llist.print_forward()\n",
        "\n",
        "    print(\"Insert:\")\n",
        "\n",
        "    llist.insert(\"Y\")\n",
        "    llist.print_forward()\n",
        "\n"
      ]
    },
    {
      "cell_type": "code",
      "source": [
        "class Stack:\n",
        "    def __init__(self):\n",
        "      self.stack = []\n",
        "\n",
        "    def push(self, dataval):\n",
        "      # Use list append method to add element\n",
        "      if dataval not in self.stack:\n",
        "          self.stack.append(dataval)\n",
        "          return True\n",
        "      else:\n",
        "          return False\n",
        "\n",
        "    def display(self):\n",
        "      for item in reversed(self.stack):\n",
        "        print(item)\n",
        "      if len(self.stack) <= 0:\n",
        "        print(\"Empty.\")\n",
        "      else:\n",
        "        print(f\"{len(self.stack)} items.\")\n",
        "\n",
        "    def pop(self):\n",
        "      # Remove and return the top element (last in first out)\n",
        "      if len(self.stack) <= 0:\n",
        "          return \"Stack is empty\"\n",
        "      else:\n",
        "          return self.stack.pop()\n",
        "\n",
        "AStack = Stack()\n",
        "AStack.push(\"Mon\")\n",
        "AStack.push(\"Tue\")\n",
        "AStack.push(\"Wed\")\n",
        "AStack.push(\"Thu\")\n",
        "AStack.pop()\n",
        "AStack.pop()\n",
        "\n",
        "AStack.display()"
      ],
      "metadata": {
        "colab": {
          "base_uri": "https://localhost:8080/"
        },
        "id": "-sqdzpbeVd14",
        "outputId": "9a4acd6b-5fdc-4d2d-ce29-57073b9c4c16"
      },
      "execution_count": 16,
      "outputs": [
        {
          "output_type": "stream",
          "name": "stdout",
          "text": [
            "Tue\n",
            "Mon\n",
            "2 items.\n"
          ]
        }
      ]
    }
  ]
}