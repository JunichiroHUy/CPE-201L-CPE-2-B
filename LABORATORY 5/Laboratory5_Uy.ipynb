{
  "nbformat": 4,
  "nbformat_minor": 0,
  "metadata": {
    "colab": {
      "provenance": [],
      "authorship_tag": "ABX9TyPaMJXpSH70WBepJoIj1PGr",
      "include_colab_link": true
    },
    "kernelspec": {
      "name": "python3",
      "display_name": "Python 3"
    },
    "language_info": {
      "name": "python"
    }
  },
  "cells": [
    {
      "cell_type": "markdown",
      "metadata": {
        "id": "view-in-github",
        "colab_type": "text"
      },
      "source": [
        "<a href=\"https://colab.research.google.com/github/JunichiroHUy/CPE-201L-CPE-2-B/blob/main/Laboratory5_Uy.ipynb\" target=\"_parent\"><img src=\"https://colab.research.google.com/assets/colab-badge.svg\" alt=\"Open In Colab\"/></a>"
      ]
    },
    {
      "cell_type": "code",
      "execution_count": 42,
      "metadata": {
        "id": "zhAqKMws7CwT",
        "colab": {
          "base_uri": "https://localhost:8080/"
        },
        "outputId": "5ce903ed-98dc-4ff2-a92d-9dd09d85cfbf"
      },
      "outputs": [
        {
          "output_type": "stream",
          "name": "stdout",
          "text": [
            "[1, 2, 3, 4, 5, 6, 7, 8, 9, 10]\n",
            "\n",
            "Index 0: 1\n",
            "Index 1: 2\n",
            "Index 2: 3\n",
            "Index 3: 4\n",
            "Index 4: 5\n",
            "Index 5: 6\n",
            "Index 6: 7\n",
            "Index 7: 8\n",
            "Index 8: 9\n",
            "Index 9: 10\n",
            "\n",
            "Sum of all numbers: 55\n",
            "\n",
            "Sum of all: 55\n",
            "\n",
            "After appending: [1, 2, 3, 4, 5, 6, 7, 8, 9, 10, 6]\n",
            "\n",
            "After inserting before the second element: [1, 11, 2, 3, 4, 5, 6, 7, 8, 9, 10]\n",
            "\n",
            "The array after reversing: [1, 2, 3, 4, 5]\n",
            "\n",
            "There are 5 indexes in the array\n",
            "index(0) + index(1) + index(2) + index(3) + index(4) = 5 indexes\n"
          ]
        }
      ],
      "source": [
        "\n",
        "#1.\n",
        "def print_index(variable):\n",
        "  print()\n",
        "  for index, item in enumerate(variable):\n",
        "    print(f\"Index {index}: {item}\")\n",
        "\n",
        "def sum_all(list):\n",
        "  add = sum(list)\n",
        "  print(f\"\\nSum of all: {add}\")\n",
        "\n",
        "def for_sum(list):\n",
        "  sum = 0\n",
        "  for item in list:\n",
        "    sum += item\n",
        "\n",
        "  print(f\"\\nSum of all numbers: {sum}\")\n",
        "\n",
        "original_array = [1,2,3,4,5,6,7,8,9,10]\n",
        "\n",
        "print(original_array)\n",
        "\n",
        "print_index(original_array)\n",
        "\n",
        "for_sum(original_array)\n",
        "sum_all(original_array)\n",
        "\n",
        "#2.\n",
        "\n",
        "original_array.append(6)\n",
        "print(f\"\\nAfter appending: {original_array}\")\n",
        "\n",
        "#3.\n",
        "original_array2 = [1,2,3,4,5,6,7,8,9,10]\n",
        "original_array2.insert(1, 11)\n",
        "\n",
        "print(f\"\\nAfter inserting before the second element: {original_array2}\")\n",
        "\n",
        "#4.\n",
        "original_array3 = [5, 4, 3, 2, 1]\n",
        "original_array3.reverse()\n",
        "print(f\"\\nThe array after reversing: {original_array3}\")\n",
        "\n",
        "#5.\n",
        "original_array4 = [5, 4, 3, 2, 1]\n",
        "print(f\"\\nThere are {len(original_array4)} indexes in the array\")\n",
        "\n",
        "def addIndexes(list):\n",
        "  last = len(list) - 1\n",
        "  toPrint = \"\"\n",
        "\n",
        "  for index, value in enumerate(list):\n",
        "\n",
        "    toPrint += f\"index({index})\"\n",
        "\n",
        "    if value is not list[last]:\n",
        "      toPrint += \" + \"\n",
        "    else:\n",
        "      toPrint += f\" = {len(list)} indexes\"\n",
        "  print(toPrint)\n",
        "\n",
        "addIndexes(original_array4)\n",
        "\n",
        "\n",
        "\n",
        "\n"
      ]
    }
  ]
}