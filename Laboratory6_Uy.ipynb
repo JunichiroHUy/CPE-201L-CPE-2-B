{
  "nbformat": 4,
  "nbformat_minor": 0,
  "metadata": {
    "colab": {
      "provenance": [],
      "authorship_tag": "ABX9TyOew6aVkAiJ1VjBc4QFgHvL",
      "include_colab_link": true
    },
    "kernelspec": {
      "name": "python3",
      "display_name": "Python 3"
    },
    "language_info": {
      "name": "python"
    }
  },
  "cells": [
    {
      "cell_type": "markdown",
      "metadata": {
        "id": "view-in-github",
        "colab_type": "text"
      },
      "source": [
        "<a href=\"https://colab.research.google.com/github/JunichiroHUy/CPE-201L-CPE-2-B/blob/main/Laboratory6_Uy.ipynb\" target=\"_parent\"><img src=\"https://colab.research.google.com/assets/colab-badge.svg\" alt=\"Open In Colab\"/></a>"
      ]
    },
    {
      "cell_type": "code",
      "execution_count": null,
      "metadata": {
        "colab": {
          "base_uri": "https://localhost:8080/"
        },
        "id": "lxOdFKWqq9nK",
        "outputId": "8ce4ca43-62c8-4990-990e-713744e99b2c"
      },
      "outputs": [
        {
          "output_type": "stream",
          "name": "stdout",
          "text": [
            "Print the prime numbers: \n",
            "2 3 5 7 11 17 19 \n",
            "\n",
            "Print the head: \n",
            "2\n",
            "\n",
            "Print the tail: \n",
            "19\n"
          ]
        }
      ],
      "source": [
        "class Node:\n",
        "\n",
        "  def __init__(self,new_data):\n",
        "    self.data = new_data\n",
        "    self.next = None\n",
        "\n",
        "def traverseList(head):\n",
        "\n",
        "  while head is not None:\n",
        "\n",
        "    print(head.data, end=\" \")\n",
        "    head = head.next\n",
        "\n",
        "  print()\n",
        "\n",
        "def main():\n",
        "  primeNos = [2, 3, 5, 7, 11, 17, 19]\n",
        "\n",
        "  head = None\n",
        "  tail = None\n",
        "\n",
        "  for p in primeNos:\n",
        "    new_node = Node(p)\n",
        "\n",
        "    if head is None:\n",
        "      head = new_node\n",
        "      tail = new_node\n",
        "\n",
        "    else:\n",
        "\n",
        "      tail.next = new_node\n",
        "      tail = new_node\n",
        "\n",
        "  print(\"Print the prime numbers: \")\n",
        "  traverseList(head)\n",
        "\n",
        "\n",
        "  print(\"\\nPrint the head: \")\n",
        "  if head is not None:\n",
        "    print(head.data)\n",
        "\n",
        "  else:\n",
        "    print(\"The list is empty.\")\n",
        "\n",
        "  print(\"\\nPrint the tail: \")\n",
        "  if head is not None:\n",
        "    print(tail.data)\n",
        "\n",
        "  else:\n",
        "    print(\"The list is empty.\")\n",
        "\n",
        "\n",
        "if __name__ == \"__main__\":\n",
        "  main()\n",
        "\n"
      ]
    }
  ]
}